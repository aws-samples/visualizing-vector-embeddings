{
 "cells": [
  {
   "cell_type": "markdown",
   "id": "9cf9ca26",
   "metadata": {},
   "source": [
    "# Visualizing Vector Embedings \n"
   ]
  },
  {
   "cell_type": "markdown",
   "id": "2db38eb5",
   "metadata": {},
   "source": [
    "### Install required binaries. "
   ]
  },
  {
   "cell_type": "code",
   "execution_count": 33,
   "id": "dedec658",
   "metadata": {},
   "outputs": [
    {
     "name": "stdout",
     "output_type": "stream",
     "text": [
      "Requirement already satisfied: boto3 in /home/ec2-user/anaconda3/envs/python3/lib/python3.10/site-packages (1.34.124)\n",
      "Requirement already satisfied: psycopg2-binary in /home/ec2-user/anaconda3/envs/python3/lib/python3.10/site-packages (2.9.9)\n",
      "Requirement already satisfied: pgvector in /home/ec2-user/anaconda3/envs/python3/lib/python3.10/site-packages (0.2.5)\n",
      "Requirement already satisfied: botocore<1.35.0,>=1.34.124 in /home/ec2-user/anaconda3/envs/python3/lib/python3.10/site-packages (from boto3) (1.34.124)\n",
      "Requirement already satisfied: jmespath<2.0.0,>=0.7.1 in /home/ec2-user/anaconda3/envs/python3/lib/python3.10/site-packages (from boto3) (1.0.1)\n",
      "Requirement already satisfied: s3transfer<0.11.0,>=0.10.0 in /home/ec2-user/anaconda3/envs/python3/lib/python3.10/site-packages (from boto3) (0.10.0)\n",
      "Requirement already satisfied: psycopg2==2.9.9 in /home/ec2-user/anaconda3/envs/python3/lib/python3.10/site-packages (from psycopg2-binary) (2.9.9)\n",
      "Requirement already satisfied: numpy in /home/ec2-user/anaconda3/envs/python3/lib/python3.10/site-packages (from pgvector) (1.22.4)\n",
      "Requirement already satisfied: python-dateutil<3.0.0,>=2.1 in /home/ec2-user/anaconda3/envs/python3/lib/python3.10/site-packages (from botocore<1.35.0,>=1.34.124->boto3) (2.8.2)\n",
      "Requirement already satisfied: urllib3!=2.2.0,<3,>=1.25.4 in /home/ec2-user/anaconda3/envs/python3/lib/python3.10/site-packages (from botocore<1.35.0,>=1.34.124->boto3) (1.26.18)\n",
      "Requirement already satisfied: six>=1.5 in /home/ec2-user/anaconda3/envs/python3/lib/python3.10/site-packages (from python-dateutil<3.0.0,>=2.1->botocore<1.35.0,>=1.34.124->boto3) (1.16.0)\n"
     ]
    }
   ],
   "source": [
    "!pip install -U  boto3 psycopg2-binary pgvector\n"
   ]
  },
  {
   "cell_type": "markdown",
   "id": "8b9bc617",
   "metadata": {},
   "source": [
    "### Import required libraries"
   ]
  },
  {
   "cell_type": "code",
   "execution_count": 34,
   "id": "696550c1",
   "metadata": {},
   "outputs": [],
   "source": [
    "import json, pandas as pd\n",
    "import boto3"
   ]
  },
  {
   "cell_type": "markdown",
   "id": "7b2d6635",
   "metadata": {},
   "source": [
    "### Load sample product catalog data into dataframe."
   ]
  },
  {
   "cell_type": "code",
   "execution_count": 35,
   "id": "481bf427",
   "metadata": {},
   "outputs": [
    {
     "data": {
      "text/html": [
       "<div>\n",
       "<style scoped>\n",
       "    .dataframe tbody tr th:only-of-type {\n",
       "        vertical-align: middle;\n",
       "    }\n",
       "\n",
       "    .dataframe tbody tr th {\n",
       "        vertical-align: top;\n",
       "    }\n",
       "\n",
       "    .dataframe thead th {\n",
       "        text-align: right;\n",
       "    }\n",
       "</style>\n",
       "<table border=\"1\" class=\"dataframe\">\n",
       "  <thead>\n",
       "    <tr style=\"text-align: right;\">\n",
       "      <th></th>\n",
       "      <th>p_category</th>\n",
       "      <th>p_name</th>\n",
       "      <th>p_description</th>\n",
       "    </tr>\n",
       "  </thead>\n",
       "  <tbody>\n",
       "    <tr>\n",
       "      <th>0</th>\n",
       "      <td>Fruit</td>\n",
       "      <td>Apple</td>\n",
       "      <td>Juicy and crisp apple, perfect for snacking or...</td>\n",
       "    </tr>\n",
       "    <tr>\n",
       "      <th>1</th>\n",
       "      <td>Fruit</td>\n",
       "      <td>Banana</td>\n",
       "      <td>Sweet and creamy banana, a nutritious addition...</td>\n",
       "    </tr>\n",
       "    <tr>\n",
       "      <th>2</th>\n",
       "      <td>Fruit</td>\n",
       "      <td>Mango</td>\n",
       "      <td>Exotic and flavorful mango, delicious eaten fr...</td>\n",
       "    </tr>\n",
       "    <tr>\n",
       "      <th>3</th>\n",
       "      <td>Fruit</td>\n",
       "      <td>Orange</td>\n",
       "      <td>Refreshing and citrusy orange, packed with vit...</td>\n",
       "    </tr>\n",
       "    <tr>\n",
       "      <th>4</th>\n",
       "      <td>Fruit</td>\n",
       "      <td>Pineapple</td>\n",
       "      <td>Fresh and tropical pineapple, known for its sw...</td>\n",
       "    </tr>\n",
       "  </tbody>\n",
       "</table>\n",
       "</div>"
      ],
      "text/plain": [
       "  p_category     p_name                                      p_description\n",
       "0      Fruit      Apple  Juicy and crisp apple, perfect for snacking or...\n",
       "1      Fruit     Banana  Sweet and creamy banana, a nutritious addition...\n",
       "2      Fruit      Mango  Exotic and flavorful mango, delicious eaten fr...\n",
       "3      Fruit     Orange  Refreshing and citrusy orange, packed with vit...\n",
       "4      Fruit  Pineapple  Fresh and tropical pineapple, known for its sw..."
      ]
     },
     "execution_count": 35,
     "metadata": {},
     "output_type": "execute_result"
    }
   ],
   "source": [
    "df = pd.read_csv(\"./product_catalog.csv\", sep=\"|\")\n",
    "df.head(5)"
   ]
  },
  {
   "cell_type": "markdown",
   "id": "3d06b2b0",
   "metadata": {},
   "source": [
    "### Review unique product categories in the sample data."
   ]
  },
  {
   "cell_type": "code",
   "execution_count": 36,
   "id": "bba29011",
   "metadata": {},
   "outputs": [
    {
     "data": {
      "text/plain": [
       "['Electronics', 'Fruit', 'Furniture', 'Sport']"
      ]
     },
     "execution_count": 36,
     "metadata": {},
     "output_type": "execute_result"
    }
   ],
   "source": [
    "categories = sorted(df[\"p_category\"].unique())\n",
    "categories"
   ]
  },
  {
   "cell_type": "markdown",
   "id": "b91273a2",
   "metadata": {},
   "source": [
    "### Creating Amazon Bedrock client. Later we will be using this client to invoke one of the text embedding model."
   ]
  },
  {
   "cell_type": "code",
   "execution_count": 37,
   "id": "74dd21a2",
   "metadata": {},
   "outputs": [],
   "source": [
    "def create_beddrock_client(region):\n",
    "        bedrock_client = boto3.client(\"bedrock-runtime\", region_name='us-east-1')\n",
    "        return bedrock_client\n",
    "    \n",
    "\n",
    "bedrock_client = create_beddrock_client('us-east-1')\n"
   ]
  },
  {
   "cell_type": "markdown",
   "id": "56dfbfb8",
   "metadata": {},
   "source": [
    "### Declaring function to create text embeddings. We are passing bedrock client and data to this function."
   ]
  },
  {
   "cell_type": "code",
   "execution_count": 38,
   "id": "8418b4dc",
   "metadata": {},
   "outputs": [],
   "source": [
    "def create_description_embedding( desc,bedrock_client):\n",
    "        payload = {\"inputText\": f\"{desc}\"}\n",
    "        body = json.dumps(payload)\n",
    "        model = \"amazon.titan-embed-text-v1\"\n",
    "        accept = \"application/json\"\n",
    "        contentType = \"application/json\"\n",
    "\n",
    "        response = bedrock_client.invoke_model(\n",
    "           body=body, modelId=model, accept=accept, contentType=contentType\n",
    "        )\n",
    "        response_body = json.loads(response.get(\"body\").read())\n",
    "\n",
    "        embeddings = response_body.get(\"embedding\")\n",
    "        return  embeddings\n",
    "\n"
   ]
  },
  {
   "cell_type": "markdown",
   "id": "5f862a83",
   "metadata": {},
   "source": [
    "### Generating embeddings for each product (description) "
   ]
  },
  {
   "cell_type": "code",
   "execution_count": 39,
   "id": "1a427efe",
   "metadata": {},
   "outputs": [],
   "source": [
    "\n",
    "all_records = []\n",
    "\n",
    "for records in df['p_description']:\n",
    "    embedded_data = create_description_embedding(records,bedrock_client)\n",
    "    all_records.append(embedded_data)\n",
    "    \n"
   ]
  },
  {
   "cell_type": "markdown",
   "id": "9f059423",
   "metadata": {},
   "source": [
    "### Displaying top 2 records from the list and adding one new column 'embed' to it. This new column holds the embeddings generated in previous step."
   ]
  },
  {
   "cell_type": "code",
   "execution_count": 40,
   "id": "a96e5bc0",
   "metadata": {},
   "outputs": [
    {
     "data": {
      "text/html": [
       "<div>\n",
       "<style scoped>\n",
       "    .dataframe tbody tr th:only-of-type {\n",
       "        vertical-align: middle;\n",
       "    }\n",
       "\n",
       "    .dataframe tbody tr th {\n",
       "        vertical-align: top;\n",
       "    }\n",
       "\n",
       "    .dataframe thead th {\n",
       "        text-align: right;\n",
       "    }\n",
       "</style>\n",
       "<table border=\"1\" class=\"dataframe\">\n",
       "  <thead>\n",
       "    <tr style=\"text-align: right;\">\n",
       "      <th></th>\n",
       "      <th>p_category</th>\n",
       "      <th>p_name</th>\n",
       "      <th>p_embeddings</th>\n",
       "      <th>p_description</th>\n",
       "    </tr>\n",
       "  </thead>\n",
       "  <tbody>\n",
       "    <tr>\n",
       "      <th>0</th>\n",
       "      <td>Fruit</td>\n",
       "      <td>Apple</td>\n",
       "      <td>[-0.41796875, 0.7578125, -0.16308594, 0.045898...</td>\n",
       "      <td>Juicy and crisp apple, perfect for snacking or...</td>\n",
       "    </tr>\n",
       "    <tr>\n",
       "      <th>1</th>\n",
       "      <td>Fruit</td>\n",
       "      <td>Banana</td>\n",
       "      <td>[0.8515625, 0.036376953, 0.31835938, 0.1318359...</td>\n",
       "      <td>Sweet and creamy banana, a nutritious addition...</td>\n",
       "    </tr>\n",
       "  </tbody>\n",
       "</table>\n",
       "</div>"
      ],
      "text/plain": [
       "  p_category  p_name                                       p_embeddings  \\\n",
       "0      Fruit   Apple  [-0.41796875, 0.7578125, -0.16308594, 0.045898...   \n",
       "1      Fruit  Banana  [0.8515625, 0.036376953, 0.31835938, 0.1318359...   \n",
       "\n",
       "                                       p_description  \n",
       "0  Juicy and crisp apple, perfect for snacking or...  \n",
       "1  Sweet and creamy banana, a nutritious addition...  "
      ]
     },
     "execution_count": 40,
     "metadata": {},
     "output_type": "execute_result"
    }
   ],
   "source": [
    "#all_records[1]\n",
    "\n",
    "df.head(2)\n",
    "df.insert(2,'p_embeddings',all_records)\n",
    "df.head(2)\n"
   ]
  },
  {
   "cell_type": "code",
   "execution_count": 41,
   "id": "2ee7daa9",
   "metadata": {},
   "outputs": [
    {
     "data": {
      "text/plain": [
       "60"
      ]
     },
     "execution_count": 41,
     "metadata": {},
     "output_type": "execute_result"
    }
   ],
   "source": [
    "len(df)"
   ]
  },
  {
   "cell_type": "markdown",
   "id": "509b4729",
   "metadata": {},
   "source": [
    "### Connect with Aurora PostgreSQL database. Create vector extension. Create new table and load embedded product catalog data into PostgreSQL table."
   ]
  },
  {
   "cell_type": "code",
   "execution_count": 42,
   "id": "6012cfbe",
   "metadata": {},
   "outputs": [
    {
     "name": "stdout",
     "output_type": "stream",
     "text": [
      "Data loaded successfully!\n"
     ]
    }
   ],
   "source": [
    "import psycopg2\n",
    "from pgvector.psycopg2 import register_vector\n",
    "\n",
    "client = boto3.client('secretsmanager')\n",
    "\n",
    "response = client.get_secret_value(\n",
    "    SecretId='aupg-vector-secret'\n",
    ")\n",
    "database_secrets = json.loads(response['SecretString'])\n",
    "\n",
    "dbhost = database_secrets['host']\n",
    "dbport = database_secrets['port']\n",
    "dbuser = database_secrets['username']\n",
    "dbpass = database_secrets['password']\n",
    "\n",
    "dbconn = psycopg2.connect(host=dbhost, user=dbuser, password=dbpass, port=dbport)\n",
    "dbconn.set_session(autocommit=True)\n",
    "\n",
    "cur = dbconn.cursor()\n",
    "cur.execute(\"create extension if not exists vector;\")\n",
    "register_vector(dbconn)\n",
    "cur.execute(\"drop table if exists product_catalog;\")\n",
    "cur.execute(\"\"\"create table if not exists product_catalog(\n",
    "               p_id serial primary key,  \n",
    "               p_category varchar(15),\n",
    "               p_name varchar(50),\n",
    "               p_description text,\n",
    "               p_embeddings vector(1536));\"\"\")\n",
    "\n",
    "\n",
    "for index, row in df.iterrows():\n",
    "     cur.execute(\"\"\"INSERT INTO product_catalog (p_category,p_name, p_description,p_embeddings)  values(%s, %s, %s, %s);\"\"\",( row.p_category, row.p_name, row.p_description,row.p_embeddings))\n",
    "\n",
    "\n",
    "cur.execute(\"\"\"CREATE INDEX ON product_catalog \n",
    "               USING ivfflat (p_embeddings vector_l2_ops) WITH (lists = 100);\"\"\")\n",
    "cur.execute(\"vacuum analyze product_catalog;\")\n",
    "\n",
    "cur.close()\n",
    "dbconn.close()\n",
    "print (\"Data loaded successfully!\")\n"
   ]
  },
  {
   "cell_type": "markdown",
   "id": "bb60be12",
   "metadata": {},
   "source": [
    "### Now read the records back from the PostgreSQL table for visualization."
   ]
  },
  {
   "cell_type": "code",
   "execution_count": 43,
   "id": "3a98fb2b",
   "metadata": {},
   "outputs": [
    {
     "name": "stderr",
     "output_type": "stream",
     "text": [
      "/tmp/ipykernel_23520/3991186128.py:3: UserWarning:\n",
      "\n",
      "pandas only supports SQLAlchemy connectable (engine/connection) or database string URI or sqlite3 DBAPI2 connection. Other DBAPI2 objects are not tested. Please consider using SQLAlchemy.\n",
      "\n"
     ]
    },
    {
     "data": {
      "text/html": [
       "<div>\n",
       "<style scoped>\n",
       "    .dataframe tbody tr th:only-of-type {\n",
       "        vertical-align: middle;\n",
       "    }\n",
       "\n",
       "    .dataframe tbody tr th {\n",
       "        vertical-align: top;\n",
       "    }\n",
       "\n",
       "    .dataframe thead th {\n",
       "        text-align: right;\n",
       "    }\n",
       "</style>\n",
       "<table border=\"1\" class=\"dataframe\">\n",
       "  <thead>\n",
       "    <tr style=\"text-align: right;\">\n",
       "      <th></th>\n",
       "      <th>p_category</th>\n",
       "      <th>p_name</th>\n",
       "      <th>p_embeddings</th>\n",
       "      <th>p_description</th>\n",
       "    </tr>\n",
       "  </thead>\n",
       "  <tbody>\n",
       "    <tr>\n",
       "      <th>0</th>\n",
       "      <td>Fruit</td>\n",
       "      <td>Apple</td>\n",
       "      <td>[-0.41796875, 0.7578125, -0.16308594, 0.045898...</td>\n",
       "      <td>Juicy and crisp apple, perfect for snacking or...</td>\n",
       "    </tr>\n",
       "    <tr>\n",
       "      <th>1</th>\n",
       "      <td>Fruit</td>\n",
       "      <td>Banana</td>\n",
       "      <td>[0.8515625, 0.036376953, 0.31835938, 0.1318359...</td>\n",
       "      <td>Sweet and creamy banana, a nutritious addition...</td>\n",
       "    </tr>\n",
       "    <tr>\n",
       "      <th>2</th>\n",
       "      <td>Fruit</td>\n",
       "      <td>Mango</td>\n",
       "      <td>[0.6328125, 0.73046875, 0.3046875, -0.72265625...</td>\n",
       "      <td>Exotic and flavorful mango, delicious eaten fr...</td>\n",
       "    </tr>\n",
       "  </tbody>\n",
       "</table>\n",
       "</div>"
      ],
      "text/plain": [
       "  p_category  p_name                                       p_embeddings  \\\n",
       "0      Fruit   Apple  [-0.41796875, 0.7578125, -0.16308594, 0.045898...   \n",
       "1      Fruit  Banana  [0.8515625, 0.036376953, 0.31835938, 0.1318359...   \n",
       "2      Fruit   Mango  [0.6328125, 0.73046875, 0.3046875, -0.72265625...   \n",
       "\n",
       "                                       p_description  \n",
       "0  Juicy and crisp apple, perfect for snacking or...  \n",
       "1  Sweet and creamy banana, a nutritious addition...  \n",
       "2  Exotic and flavorful mango, delicious eaten fr...  "
      ]
     },
     "execution_count": 43,
     "metadata": {},
     "output_type": "execute_result"
    }
   ],
   "source": [
    "with psycopg2.connect(\"host='{}' port={} user={} password={}\".format(dbhost, dbport, dbuser, dbpass)) as conn:\n",
    "    sql = \"select p_category,p_name,p_description,p_embeddings from product_catalog ;\"\n",
    "    df_data = pd.read_sql_query(sql, conn)\n",
    "\n",
    " \n",
    "\n",
    "df.head(3)"
   ]
  },
  {
   "cell_type": "markdown",
   "id": "061e7bc5",
   "metadata": {},
   "source": [
    "### There are few algorithms which supports dimensionality reduction. We are going to use PCA (Principal Component Analysis) in this demo."
   ]
  },
  {
   "cell_type": "code",
   "execution_count": 44,
   "id": "842c567e",
   "metadata": {},
   "outputs": [],
   "source": [
    "from sklearn.decomposition import PCA"
   ]
  },
  {
   "cell_type": "markdown",
   "id": "e375ce26",
   "metadata": {},
   "source": [
    "### Embeddings generated by Amazon Bedrock model had 1536 dimentions. however, It is not posssible to visualize them. Hence we are reducing them to 3 dimention embeddings so later we can visualize these embeddings."
   ]
  },
  {
   "cell_type": "code",
   "execution_count": 45,
   "id": "8557127b",
   "metadata": {},
   "outputs": [
    {
     "data": {
      "text/plain": [
       "array([[ 3.56268566e-01,  1.15016430e+01,  4.42933646e+00],\n",
       "       [-3.54746662e-01,  1.01054964e+01,  2.81543477e+00],\n",
       "       [ 1.71470682e-01,  1.17202911e+01,  4.28195533e+00],\n",
       "       [ 8.32021309e-01,  1.09130511e+01,  3.71712425e+00],\n",
       "       [-8.17363944e-04,  1.10186798e+01,  3.62481896e+00],\n",
       "       [ 2.79766486e-02,  1.08029233e+01,  4.68497927e+00],\n",
       "       [-7.09940170e-01,  1.07609600e+01,  4.35195849e+00],\n",
       "       [-1.22574021e+00,  1.04870281e+01,  2.45737229e+00],\n",
       "       [ 6.01603944e-01,  1.08489812e+01,  3.92227170e+00],\n",
       "       [ 4.41474741e-01,  1.21007592e+01,  3.99378858e+00],\n",
       "       [ 6.16746435e+00, -1.75437462e+00, -1.42068579e+00],\n",
       "       [ 7.77806047e+00, -1.92270712e+00, -3.04329989e+00],\n",
       "       [ 4.61780955e+00, -1.55658909e+00, -1.08092755e+00],\n",
       "       [ 7.80199931e+00, -2.24629252e+00, -3.94739974e+00],\n",
       "       [ 5.68970398e+00, -3.78039493e+00, -1.62332420e+00],\n",
       "       [ 6.07675432e+00, -1.72189904e+00, -4.19152178e+00],\n",
       "       [ 5.92949794e+00, -2.49914325e+00, -2.97613815e+00],\n",
       "       [ 6.52969116e+00, -2.48318118e+00,  1.32646692e+00],\n",
       "       [ 4.31365343e+00, -3.45420404e+00, -1.00791380e+00],\n",
       "       [ 8.00439082e+00,  2.60171349e-01, -2.98989991e+00],\n",
       "       [-2.71634007e+00, -5.48524860e+00,  6.83642926e+00],\n",
       "       [-5.41786528e+00, -5.15412207e+00,  6.64639040e+00],\n",
       "       [-4.58733094e+00, -7.63868861e+00,  5.93943909e+00],\n",
       "       [-1.30782600e+00, -4.21848791e+00,  8.19721880e+00],\n",
       "       [-1.96208322e+00, -2.38811681e+00,  7.75203404e+00],\n",
       "       [-2.31310679e+00, -5.36475826e+00,  6.44941963e+00],\n",
       "       [-3.70291393e+00, -4.07372380e+00,  3.85356141e+00],\n",
       "       [-4.65824799e+00, -5.06869972e+00,  6.60666600e+00],\n",
       "       [-5.88298878e+00, -3.94208024e+00,  1.76794129e+00],\n",
       "       [-5.23365416e+00, -4.55012038e+00,  3.09927357e+00],\n",
       "       [-3.27217916e+00, -2.71374299e+00,  9.03813946e+00],\n",
       "       [-9.54903701e-01, -3.29219579e+00,  5.55059181e+00],\n",
       "       [-5.26725927e+00, -4.91644815e+00,  5.77819645e+00],\n",
       "       [-3.38448778e+00, -4.32014741e+00,  4.18168834e+00],\n",
       "       [-5.76687082e-01, -4.28182819e+00,  5.97685983e+00],\n",
       "       [-3.66177558e+00, -4.13871846e+00,  1.36264818e+00],\n",
       "       [-3.53329884e+00, -6.06505293e+00,  5.80259349e+00],\n",
       "       [-5.71962529e+00, -4.24532060e+00,  1.45896345e+00],\n",
       "       [ 7.48261234e+00, -2.37729454e+00, -1.99550821e+00],\n",
       "       [ 6.48682710e+00, -4.36103005e-01, -1.41282526e+00],\n",
       "       [ 7.47693090e+00, -1.37474753e+00, -3.72181111e+00],\n",
       "       [ 8.78827805e+00, -2.24453794e+00, -3.71239520e+00],\n",
       "       [ 7.21325395e+00, -2.66129298e+00, -2.78937441e+00],\n",
       "       [ 8.96293040e+00, -1.11606378e+00, -4.65112229e+00],\n",
       "       [ 6.65430323e+00, -1.74619881e+00, -2.96826057e+00],\n",
       "       [ 5.95882174e+00, -1.83674220e+00, -3.09427812e+00],\n",
       "       [ 4.26015099e+00, -2.49592998e+00,  2.29707530e-01],\n",
       "       [ 7.18843109e+00, -6.66141935e-01, -2.22315253e+00],\n",
       "       [ 6.54115446e+00,  2.34524324e+00, -1.80624819e+00],\n",
       "       [ 8.36565262e+00, -8.88486411e-01, -3.61211249e+00],\n",
       "       [-8.11035087e+00,  1.02936543e+00, -8.13308671e+00],\n",
       "       [-8.80527634e+00,  7.00550246e-01, -8.60251170e+00],\n",
       "       [-7.99738848e+00,  5.84007674e-01, -8.28024082e+00],\n",
       "       [-8.00847251e+00,  1.08887684e+00, -8.74759067e+00],\n",
       "       [-8.78144811e+00,  4.51081821e-01, -8.91827996e+00],\n",
       "       [-7.90053809e+00,  1.53455795e+00, -7.86298127e+00],\n",
       "       [-8.88213693e+00,  5.73404088e-01, -8.11686775e+00],\n",
       "       [-8.53060373e+00,  9.65588800e-02, -6.90418419e+00],\n",
       "       [-8.89946947e+00,  1.56438074e+00, -8.59217645e+00],\n",
       "       [-8.35968527e+00,  6.31814370e-01, -7.70715034e+00]])"
      ]
     },
     "execution_count": 45,
     "metadata": {},
     "output_type": "execute_result"
    }
   ],
   "source": [
    "pca = PCA(n_components=3)\n",
    "vis_dims = pca.fit_transform(df_data['p_embeddings'].to_list())\n",
    "vis_dims\n"
   ]
  },
  {
   "cell_type": "markdown",
   "id": "2e3e6bcf",
   "metadata": {},
   "source": [
    "#### Keeping it all together. Adding new column in previous list, adding new column 'pca_embed' which will have 3 dimentioal embeddings. "
   ]
  },
  {
   "cell_type": "code",
   "execution_count": 46,
   "id": "c798c708",
   "metadata": {},
   "outputs": [
    {
     "data": {
      "text/html": [
       "<div>\n",
       "<style scoped>\n",
       "    .dataframe tbody tr th:only-of-type {\n",
       "        vertical-align: middle;\n",
       "    }\n",
       "\n",
       "    .dataframe tbody tr th {\n",
       "        vertical-align: top;\n",
       "    }\n",
       "\n",
       "    .dataframe thead th {\n",
       "        text-align: right;\n",
       "    }\n",
       "</style>\n",
       "<table border=\"1\" class=\"dataframe\">\n",
       "  <thead>\n",
       "    <tr style=\"text-align: right;\">\n",
       "      <th></th>\n",
       "      <th>p_category</th>\n",
       "      <th>p_name</th>\n",
       "      <th>p_description</th>\n",
       "      <th>p_embeddings</th>\n",
       "      <th>pca_embed</th>\n",
       "    </tr>\n",
       "  </thead>\n",
       "  <tbody>\n",
       "    <tr>\n",
       "      <th>0</th>\n",
       "      <td>Fruit</td>\n",
       "      <td>Apple</td>\n",
       "      <td>Juicy and crisp apple, perfect for snacking or...</td>\n",
       "      <td>[-0.41796875, 0.7578125, -0.16308594, 0.045898...</td>\n",
       "      <td>[0.35626856571655474, 11.501643004047386, 4.42...</td>\n",
       "    </tr>\n",
       "    <tr>\n",
       "      <th>1</th>\n",
       "      <td>Fruit</td>\n",
       "      <td>Banana</td>\n",
       "      <td>Sweet and creamy banana, a nutritious addition...</td>\n",
       "      <td>[0.8515625, 0.036376953, 0.31835938, 0.1318359...</td>\n",
       "      <td>[-0.3547466621907463, 10.105496442467032, 2.81...</td>\n",
       "    </tr>\n",
       "    <tr>\n",
       "      <th>2</th>\n",
       "      <td>Fruit</td>\n",
       "      <td>Mango</td>\n",
       "      <td>Exotic and flavorful mango, delicious eaten fr...</td>\n",
       "      <td>[0.6328125, 0.73046875, 0.3046875, -0.72265625...</td>\n",
       "      <td>[0.17147068159548648, 11.720291050641865, 4.28...</td>\n",
       "    </tr>\n",
       "    <tr>\n",
       "      <th>3</th>\n",
       "      <td>Fruit</td>\n",
       "      <td>Orange</td>\n",
       "      <td>Refreshing and citrusy orange, packed with vit...</td>\n",
       "      <td>[0.921875, 0.69921875, 0.29101562, 0.061523438...</td>\n",
       "      <td>[0.8320213087523731, 10.913051113510148, 3.717...</td>\n",
       "    </tr>\n",
       "    <tr>\n",
       "      <th>4</th>\n",
       "      <td>Fruit</td>\n",
       "      <td>Pineapple</td>\n",
       "      <td>Fresh and tropical pineapple, known for its sw...</td>\n",
       "      <td>[0.33984375, 0.70703125, 0.24707031, -0.605468...</td>\n",
       "      <td>[-0.0008173639438334911, 11.01867977558647, 3....</td>\n",
       "    </tr>\n",
       "  </tbody>\n",
       "</table>\n",
       "</div>"
      ],
      "text/plain": [
       "  p_category     p_name                                      p_description  \\\n",
       "0      Fruit      Apple  Juicy and crisp apple, perfect for snacking or...   \n",
       "1      Fruit     Banana  Sweet and creamy banana, a nutritious addition...   \n",
       "2      Fruit      Mango  Exotic and flavorful mango, delicious eaten fr...   \n",
       "3      Fruit     Orange  Refreshing and citrusy orange, packed with vit...   \n",
       "4      Fruit  Pineapple  Fresh and tropical pineapple, known for its sw...   \n",
       "\n",
       "                                        p_embeddings  \\\n",
       "0  [-0.41796875, 0.7578125, -0.16308594, 0.045898...   \n",
       "1  [0.8515625, 0.036376953, 0.31835938, 0.1318359...   \n",
       "2  [0.6328125, 0.73046875, 0.3046875, -0.72265625...   \n",
       "3  [0.921875, 0.69921875, 0.29101562, 0.061523438...   \n",
       "4  [0.33984375, 0.70703125, 0.24707031, -0.605468...   \n",
       "\n",
       "                                           pca_embed  \n",
       "0  [0.35626856571655474, 11.501643004047386, 4.42...  \n",
       "1  [-0.3547466621907463, 10.105496442467032, 2.81...  \n",
       "2  [0.17147068159548648, 11.720291050641865, 4.28...  \n",
       "3  [0.8320213087523731, 10.913051113510148, 3.717...  \n",
       "4  [-0.0008173639438334911, 11.01867977558647, 3....  "
      ]
     },
     "execution_count": 46,
     "metadata": {},
     "output_type": "execute_result"
    }
   ],
   "source": [
    "df_data['pca_embed'] = vis_dims.tolist()\n",
    "df_data.head(5)"
   ]
  },
  {
   "cell_type": "markdown",
   "id": "4f139ee6",
   "metadata": {},
   "source": [
    "### Now we are simply creating a 3D scattered graph to visualize 3 dimentional embeddings from above list. This data is color coded to 'category'. This help in showing how embeddings are clustered based on their semantic meaning."
   ]
  },
  {
   "cell_type": "code",
   "execution_count": 47,
   "id": "9c6fbec8",
   "metadata": {},
   "outputs": [
    {
     "data": {
      "application/vnd.plotly.v1+json": {
       "config": {
        "plotlyServerURL": "https://plot.ly"
       },
       "data": [
        {
         "marker": {
          "color": 0,
          "colorscale": [
           [
            0,
            "#440154"
           ],
           [
            0.1111111111111111,
            "#482878"
           ],
           [
            0.2222222222222222,
            "#3e4989"
           ],
           [
            0.3333333333333333,
            "#31688e"
           ],
           [
            0.4444444444444444,
            "#26828e"
           ],
           [
            0.5555555555555556,
            "#1f9e89"
           ],
           [
            0.6666666666666666,
            "#35b779"
           ],
           [
            0.7777777777777778,
            "#6ece58"
           ],
           [
            0.8888888888888888,
            "#b5de2b"
           ],
           [
            1,
            "#fde725"
           ]
          ],
          "opacity": 0.8,
          "size": 5
         },
         "mode": "markers",
         "name": "Electronics",
         "type": "scatter3d",
         "x": [
          -2.716340074505289,
          -5.417865275335328,
          -4.587330943501956,
          -1.3078260010086615,
          -1.9620832209496744,
          -2.3131067859213266,
          -3.7029139348435134,
          -4.65824798604723,
          -5.882988782149619,
          -5.233654160485938,
          -3.2721791581292754,
          -0.9549037014545046,
          -5.267259269203983,
          -3.384487775597975,
          -0.5766870823435919,
          -3.661775578483036,
          -3.53329884272551,
          -5.71962528577891
         ],
         "y": [
          -5.485248603869658,
          -5.154122073217911,
          -7.638688613471929,
          -4.218487908438489,
          -2.3881168085186215,
          -5.364758256864748,
          -4.073723803821079,
          -5.068699720025658,
          -3.942080238100789,
          -4.550120377931678,
          -2.7137429904662045,
          -3.292195793195768,
          -4.916448150588528,
          -4.320147409678388,
          -4.28182818909605,
          -4.138718457421654,
          -6.06505293211085,
          -4.245320604897799
         ],
         "z": [
          6.836429264260381,
          6.646390400392622,
          5.939439089343638,
          8.197218796742991,
          7.752034040849291,
          6.449419632155028,
          3.8535614070062723,
          6.606666001709254,
          1.767941289469302,
          3.0992735701162872,
          9.038139457143386,
          5.550591810539672,
          5.778196445521906,
          4.181688344203225,
          5.976859826704885,
          1.362648181955742,
          5.802593490921527,
          1.458963449634843
         ]
        },
        {
         "marker": {
          "color": 1,
          "colorscale": [
           [
            0,
            "#440154"
           ],
           [
            0.1111111111111111,
            "#482878"
           ],
           [
            0.2222222222222222,
            "#3e4989"
           ],
           [
            0.3333333333333333,
            "#31688e"
           ],
           [
            0.4444444444444444,
            "#26828e"
           ],
           [
            0.5555555555555556,
            "#1f9e89"
           ],
           [
            0.6666666666666666,
            "#35b779"
           ],
           [
            0.7777777777777778,
            "#6ece58"
           ],
           [
            0.8888888888888888,
            "#b5de2b"
           ],
           [
            1,
            "#fde725"
           ]
          ],
          "opacity": 0.8,
          "size": 5
         },
         "mode": "markers",
         "name": "Fruit",
         "type": "scatter3d",
         "x": [
          0.35626856571655474,
          -0.3547466621907463,
          0.17147068159548648,
          0.8320213087523731,
          -0.0008173639438334911,
          0.02797664862338731,
          -0.7099401699181074,
          -1.2257402141326064,
          0.60160394406423,
          0.4414747407951853
         ],
         "y": [
          11.501643004047386,
          10.105496442467032,
          11.720291050641865,
          10.913051113510148,
          11.01867977558647,
          10.802923332609568,
          10.76096001198825,
          10.487028068305207,
          10.848981164762622,
          12.100759226969652
         ],
         "z": [
          4.429336464856176,
          2.815434767976622,
          4.28195533449672,
          3.717124245861798,
          3.624818963843379,
          4.684979272791155,
          4.351958491746766,
          2.4573722878172726,
          3.9222716956989236,
          3.9937885807927502
         ]
        },
        {
         "marker": {
          "color": 2,
          "colorscale": [
           [
            0,
            "#440154"
           ],
           [
            0.1111111111111111,
            "#482878"
           ],
           [
            0.2222222222222222,
            "#3e4989"
           ],
           [
            0.3333333333333333,
            "#31688e"
           ],
           [
            0.4444444444444444,
            "#26828e"
           ],
           [
            0.5555555555555556,
            "#1f9e89"
           ],
           [
            0.6666666666666666,
            "#35b779"
           ],
           [
            0.7777777777777778,
            "#6ece58"
           ],
           [
            0.8888888888888888,
            "#b5de2b"
           ],
           [
            1,
            "#fde725"
           ]
          ],
          "opacity": 0.8,
          "size": 5
         },
         "mode": "markers",
         "name": "Furniture",
         "type": "scatter3d",
         "x": [
          6.167464347634439,
          7.778060471156196,
          4.6178095479211105,
          7.801999306155743,
          5.689703980330377,
          6.076754319116005,
          5.9294979363752045,
          6.529691159971835,
          4.313653430732004,
          8.004390818403884,
          7.482612335019434,
          6.486827099623344,
          7.476930903489832,
          8.788278046697753,
          7.213253945643732,
          8.962930403459415,
          6.654303228194161,
          5.958821742445321,
          4.26015098534581,
          7.188431094243773,
          6.541154460823103,
          8.365652622967877
         ],
         "y": [
          -1.754374624202786,
          -1.9227071201218828,
          -1.5565890863962162,
          -2.2462925151127044,
          -3.780394929057997,
          -1.7218990419310838,
          -2.4991432481456606,
          -2.4831811780536923,
          -3.4542040447379643,
          0.26017134868315844,
          -2.3772945356400124,
          -0.4361030053087197,
          -1.374747526382626,
          -2.244537935687202,
          -2.661292979255141,
          -1.1160637803219808,
          -1.7461988133839363,
          -1.8367421985913317,
          -2.495929978113944,
          -0.6661419348172813,
          2.3452432355781925,
          -0.8884864111322126
         ],
         "z": [
          -1.4206857935986408,
          -3.0432998890070024,
          -1.0809275543560308,
          -3.947399741084072,
          -1.6233242038954347,
          -4.191521784649339,
          -2.9761381537530105,
          1.3264669226973254,
          -1.007913796902125,
          -2.9898999138844053,
          -1.9955082100132717,
          -1.4128252600828222,
          -3.7218111115383317,
          -3.7123952033623118,
          -2.7893744126830793,
          -4.6511222877684935,
          -2.968260569096396,
          -3.0942781169132503,
          0.22970753031871433,
          -2.2231525318918846,
          -1.806248185563792,
          -3.612112485788881
         ]
        },
        {
         "marker": {
          "color": 3,
          "colorscale": [
           [
            0,
            "#440154"
           ],
           [
            0.1111111111111111,
            "#482878"
           ],
           [
            0.2222222222222222,
            "#3e4989"
           ],
           [
            0.3333333333333333,
            "#31688e"
           ],
           [
            0.4444444444444444,
            "#26828e"
           ],
           [
            0.5555555555555556,
            "#1f9e89"
           ],
           [
            0.6666666666666666,
            "#35b779"
           ],
           [
            0.7777777777777778,
            "#6ece58"
           ],
           [
            0.8888888888888888,
            "#b5de2b"
           ],
           [
            1,
            "#fde725"
           ]
          ],
          "opacity": 0.8,
          "size": 5
         },
         "mode": "markers",
         "name": "Sport",
         "type": "scatter3d",
         "x": [
          -8.11035086548668,
          -8.805276343389608,
          -7.997388484501462,
          -8.008472514169467,
          -8.781448108110844,
          -7.900538088456241,
          -8.882136931750349,
          -8.530603729823701,
          -8.899469473107091,
          -8.359685267851509
         ],
         "y": [
          1.029365432351591,
          0.7005502461629041,
          0.5840076744512185,
          1.0888768378324352,
          0.4510818210755797,
          1.5345579542224341,
          0.5734040878764279,
          0.09655887995396839,
          1.564380739489492,
          0.631814369544557
         ],
         "z": [
          -8.133086705154945,
          -8.602511700808451,
          -8.280240821490539,
          -8.747590667365252,
          -8.918279962312011,
          -7.862981268339622,
          -8.11686774826361,
          -6.904184186421351,
          -8.592176452922432,
          -7.707150338657062
         ]
        }
       ],
       "layout": {
        "autosize": false,
        "height": 500,
        "margin": {
         "b": 100,
         "l": 50,
         "pad": 10,
         "r": 50,
         "t": 100
        },
        "scene": {
         "xaxis": {
          "title": {
           "text": "x"
          }
         },
         "yaxis": {
          "title": {
           "text": "y"
          }
         },
         "zaxis": {
          "title": {
           "text": "z"
          }
         }
        },
        "template": {
         "data": {
          "bar": [
           {
            "error_x": {
             "color": "#2a3f5f"
            },
            "error_y": {
             "color": "#2a3f5f"
            },
            "marker": {
             "line": {
              "color": "#E5ECF6",
              "width": 0.5
             },
             "pattern": {
              "fillmode": "overlay",
              "size": 10,
              "solidity": 0.2
             }
            },
            "type": "bar"
           }
          ],
          "barpolar": [
           {
            "marker": {
             "line": {
              "color": "#E5ECF6",
              "width": 0.5
             },
             "pattern": {
              "fillmode": "overlay",
              "size": 10,
              "solidity": 0.2
             }
            },
            "type": "barpolar"
           }
          ],
          "carpet": [
           {
            "aaxis": {
             "endlinecolor": "#2a3f5f",
             "gridcolor": "white",
             "linecolor": "white",
             "minorgridcolor": "white",
             "startlinecolor": "#2a3f5f"
            },
            "baxis": {
             "endlinecolor": "#2a3f5f",
             "gridcolor": "white",
             "linecolor": "white",
             "minorgridcolor": "white",
             "startlinecolor": "#2a3f5f"
            },
            "type": "carpet"
           }
          ],
          "choropleth": [
           {
            "colorbar": {
             "outlinewidth": 0,
             "ticks": ""
            },
            "type": "choropleth"
           }
          ],
          "contour": [
           {
            "colorbar": {
             "outlinewidth": 0,
             "ticks": ""
            },
            "colorscale": [
             [
              0,
              "#0d0887"
             ],
             [
              0.1111111111111111,
              "#46039f"
             ],
             [
              0.2222222222222222,
              "#7201a8"
             ],
             [
              0.3333333333333333,
              "#9c179e"
             ],
             [
              0.4444444444444444,
              "#bd3786"
             ],
             [
              0.5555555555555556,
              "#d8576b"
             ],
             [
              0.6666666666666666,
              "#ed7953"
             ],
             [
              0.7777777777777778,
              "#fb9f3a"
             ],
             [
              0.8888888888888888,
              "#fdca26"
             ],
             [
              1,
              "#f0f921"
             ]
            ],
            "type": "contour"
           }
          ],
          "contourcarpet": [
           {
            "colorbar": {
             "outlinewidth": 0,
             "ticks": ""
            },
            "type": "contourcarpet"
           }
          ],
          "heatmap": [
           {
            "colorbar": {
             "outlinewidth": 0,
             "ticks": ""
            },
            "colorscale": [
             [
              0,
              "#0d0887"
             ],
             [
              0.1111111111111111,
              "#46039f"
             ],
             [
              0.2222222222222222,
              "#7201a8"
             ],
             [
              0.3333333333333333,
              "#9c179e"
             ],
             [
              0.4444444444444444,
              "#bd3786"
             ],
             [
              0.5555555555555556,
              "#d8576b"
             ],
             [
              0.6666666666666666,
              "#ed7953"
             ],
             [
              0.7777777777777778,
              "#fb9f3a"
             ],
             [
              0.8888888888888888,
              "#fdca26"
             ],
             [
              1,
              "#f0f921"
             ]
            ],
            "type": "heatmap"
           }
          ],
          "heatmapgl": [
           {
            "colorbar": {
             "outlinewidth": 0,
             "ticks": ""
            },
            "colorscale": [
             [
              0,
              "#0d0887"
             ],
             [
              0.1111111111111111,
              "#46039f"
             ],
             [
              0.2222222222222222,
              "#7201a8"
             ],
             [
              0.3333333333333333,
              "#9c179e"
             ],
             [
              0.4444444444444444,
              "#bd3786"
             ],
             [
              0.5555555555555556,
              "#d8576b"
             ],
             [
              0.6666666666666666,
              "#ed7953"
             ],
             [
              0.7777777777777778,
              "#fb9f3a"
             ],
             [
              0.8888888888888888,
              "#fdca26"
             ],
             [
              1,
              "#f0f921"
             ]
            ],
            "type": "heatmapgl"
           }
          ],
          "histogram": [
           {
            "marker": {
             "pattern": {
              "fillmode": "overlay",
              "size": 10,
              "solidity": 0.2
             }
            },
            "type": "histogram"
           }
          ],
          "histogram2d": [
           {
            "colorbar": {
             "outlinewidth": 0,
             "ticks": ""
            },
            "colorscale": [
             [
              0,
              "#0d0887"
             ],
             [
              0.1111111111111111,
              "#46039f"
             ],
             [
              0.2222222222222222,
              "#7201a8"
             ],
             [
              0.3333333333333333,
              "#9c179e"
             ],
             [
              0.4444444444444444,
              "#bd3786"
             ],
             [
              0.5555555555555556,
              "#d8576b"
             ],
             [
              0.6666666666666666,
              "#ed7953"
             ],
             [
              0.7777777777777778,
              "#fb9f3a"
             ],
             [
              0.8888888888888888,
              "#fdca26"
             ],
             [
              1,
              "#f0f921"
             ]
            ],
            "type": "histogram2d"
           }
          ],
          "histogram2dcontour": [
           {
            "colorbar": {
             "outlinewidth": 0,
             "ticks": ""
            },
            "colorscale": [
             [
              0,
              "#0d0887"
             ],
             [
              0.1111111111111111,
              "#46039f"
             ],
             [
              0.2222222222222222,
              "#7201a8"
             ],
             [
              0.3333333333333333,
              "#9c179e"
             ],
             [
              0.4444444444444444,
              "#bd3786"
             ],
             [
              0.5555555555555556,
              "#d8576b"
             ],
             [
              0.6666666666666666,
              "#ed7953"
             ],
             [
              0.7777777777777778,
              "#fb9f3a"
             ],
             [
              0.8888888888888888,
              "#fdca26"
             ],
             [
              1,
              "#f0f921"
             ]
            ],
            "type": "histogram2dcontour"
           }
          ],
          "mesh3d": [
           {
            "colorbar": {
             "outlinewidth": 0,
             "ticks": ""
            },
            "type": "mesh3d"
           }
          ],
          "parcoords": [
           {
            "line": {
             "colorbar": {
              "outlinewidth": 0,
              "ticks": ""
             }
            },
            "type": "parcoords"
           }
          ],
          "pie": [
           {
            "automargin": true,
            "type": "pie"
           }
          ],
          "scatter": [
           {
            "fillpattern": {
             "fillmode": "overlay",
             "size": 10,
             "solidity": 0.2
            },
            "type": "scatter"
           }
          ],
          "scatter3d": [
           {
            "line": {
             "colorbar": {
              "outlinewidth": 0,
              "ticks": ""
             }
            },
            "marker": {
             "colorbar": {
              "outlinewidth": 0,
              "ticks": ""
             }
            },
            "type": "scatter3d"
           }
          ],
          "scattercarpet": [
           {
            "marker": {
             "colorbar": {
              "outlinewidth": 0,
              "ticks": ""
             }
            },
            "type": "scattercarpet"
           }
          ],
          "scattergeo": [
           {
            "marker": {
             "colorbar": {
              "outlinewidth": 0,
              "ticks": ""
             }
            },
            "type": "scattergeo"
           }
          ],
          "scattergl": [
           {
            "marker": {
             "colorbar": {
              "outlinewidth": 0,
              "ticks": ""
             }
            },
            "type": "scattergl"
           }
          ],
          "scattermapbox": [
           {
            "marker": {
             "colorbar": {
              "outlinewidth": 0,
              "ticks": ""
             }
            },
            "type": "scattermapbox"
           }
          ],
          "scatterpolar": [
           {
            "marker": {
             "colorbar": {
              "outlinewidth": 0,
              "ticks": ""
             }
            },
            "type": "scatterpolar"
           }
          ],
          "scatterpolargl": [
           {
            "marker": {
             "colorbar": {
              "outlinewidth": 0,
              "ticks": ""
             }
            },
            "type": "scatterpolargl"
           }
          ],
          "scatterternary": [
           {
            "marker": {
             "colorbar": {
              "outlinewidth": 0,
              "ticks": ""
             }
            },
            "type": "scatterternary"
           }
          ],
          "surface": [
           {
            "colorbar": {
             "outlinewidth": 0,
             "ticks": ""
            },
            "colorscale": [
             [
              0,
              "#0d0887"
             ],
             [
              0.1111111111111111,
              "#46039f"
             ],
             [
              0.2222222222222222,
              "#7201a8"
             ],
             [
              0.3333333333333333,
              "#9c179e"
             ],
             [
              0.4444444444444444,
              "#bd3786"
             ],
             [
              0.5555555555555556,
              "#d8576b"
             ],
             [
              0.6666666666666666,
              "#ed7953"
             ],
             [
              0.7777777777777778,
              "#fb9f3a"
             ],
             [
              0.8888888888888888,
              "#fdca26"
             ],
             [
              1,
              "#f0f921"
             ]
            ],
            "type": "surface"
           }
          ],
          "table": [
           {
            "cells": {
             "fill": {
              "color": "#EBF0F8"
             },
             "line": {
              "color": "white"
             }
            },
            "header": {
             "fill": {
              "color": "#C8D4E3"
             },
             "line": {
              "color": "white"
             }
            },
            "type": "table"
           }
          ]
         },
         "layout": {
          "annotationdefaults": {
           "arrowcolor": "#2a3f5f",
           "arrowhead": 0,
           "arrowwidth": 1
          },
          "autotypenumbers": "strict",
          "coloraxis": {
           "colorbar": {
            "outlinewidth": 0,
            "ticks": ""
           }
          },
          "colorscale": {
           "diverging": [
            [
             0,
             "#8e0152"
            ],
            [
             0.1,
             "#c51b7d"
            ],
            [
             0.2,
             "#de77ae"
            ],
            [
             0.3,
             "#f1b6da"
            ],
            [
             0.4,
             "#fde0ef"
            ],
            [
             0.5,
             "#f7f7f7"
            ],
            [
             0.6,
             "#e6f5d0"
            ],
            [
             0.7,
             "#b8e186"
            ],
            [
             0.8,
             "#7fbc41"
            ],
            [
             0.9,
             "#4d9221"
            ],
            [
             1,
             "#276419"
            ]
           ],
           "sequential": [
            [
             0,
             "#0d0887"
            ],
            [
             0.1111111111111111,
             "#46039f"
            ],
            [
             0.2222222222222222,
             "#7201a8"
            ],
            [
             0.3333333333333333,
             "#9c179e"
            ],
            [
             0.4444444444444444,
             "#bd3786"
            ],
            [
             0.5555555555555556,
             "#d8576b"
            ],
            [
             0.6666666666666666,
             "#ed7953"
            ],
            [
             0.7777777777777778,
             "#fb9f3a"
            ],
            [
             0.8888888888888888,
             "#fdca26"
            ],
            [
             1,
             "#f0f921"
            ]
           ],
           "sequentialminus": [
            [
             0,
             "#0d0887"
            ],
            [
             0.1111111111111111,
             "#46039f"
            ],
            [
             0.2222222222222222,
             "#7201a8"
            ],
            [
             0.3333333333333333,
             "#9c179e"
            ],
            [
             0.4444444444444444,
             "#bd3786"
            ],
            [
             0.5555555555555556,
             "#d8576b"
            ],
            [
             0.6666666666666666,
             "#ed7953"
            ],
            [
             0.7777777777777778,
             "#fb9f3a"
            ],
            [
             0.8888888888888888,
             "#fdca26"
            ],
            [
             1,
             "#f0f921"
            ]
           ]
          },
          "colorway": [
           "#636efa",
           "#EF553B",
           "#00cc96",
           "#ab63fa",
           "#FFA15A",
           "#19d3f3",
           "#FF6692",
           "#B6E880",
           "#FF97FF",
           "#FECB52"
          ],
          "font": {
           "color": "#2a3f5f"
          },
          "geo": {
           "bgcolor": "white",
           "lakecolor": "white",
           "landcolor": "#E5ECF6",
           "showlakes": true,
           "showland": true,
           "subunitcolor": "white"
          },
          "hoverlabel": {
           "align": "left"
          },
          "hovermode": "closest",
          "mapbox": {
           "style": "light"
          },
          "paper_bgcolor": "white",
          "plot_bgcolor": "#E5ECF6",
          "polar": {
           "angularaxis": {
            "gridcolor": "white",
            "linecolor": "white",
            "ticks": ""
           },
           "bgcolor": "#E5ECF6",
           "radialaxis": {
            "gridcolor": "white",
            "linecolor": "white",
            "ticks": ""
           }
          },
          "scene": {
           "xaxis": {
            "backgroundcolor": "#E5ECF6",
            "gridcolor": "white",
            "gridwidth": 2,
            "linecolor": "white",
            "showbackground": true,
            "ticks": "",
            "zerolinecolor": "white"
           },
           "yaxis": {
            "backgroundcolor": "#E5ECF6",
            "gridcolor": "white",
            "gridwidth": 2,
            "linecolor": "white",
            "showbackground": true,
            "ticks": "",
            "zerolinecolor": "white"
           },
           "zaxis": {
            "backgroundcolor": "#E5ECF6",
            "gridcolor": "white",
            "gridwidth": 2,
            "linecolor": "white",
            "showbackground": true,
            "ticks": "",
            "zerolinecolor": "white"
           }
          },
          "shapedefaults": {
           "line": {
            "color": "#2a3f5f"
           }
          },
          "ternary": {
           "aaxis": {
            "gridcolor": "white",
            "linecolor": "white",
            "ticks": ""
           },
           "baxis": {
            "gridcolor": "white",
            "linecolor": "white",
            "ticks": ""
           },
           "bgcolor": "#E5ECF6",
           "caxis": {
            "gridcolor": "white",
            "linecolor": "white",
            "ticks": ""
           }
          },
          "title": {
           "x": 0.05
          },
          "xaxis": {
           "automargin": true,
           "gridcolor": "white",
           "linecolor": "white",
           "ticks": "",
           "title": {
            "standoff": 15
           },
           "zerolinecolor": "white",
           "zerolinewidth": 2
          },
          "yaxis": {
           "automargin": true,
           "gridcolor": "white",
           "linecolor": "white",
           "ticks": "",
           "title": {
            "standoff": 15
           },
           "zerolinecolor": "white",
           "zerolinewidth": 2
          }
         }
        },
        "title": {
         "text": "3D Scatter Plot of Categories"
        },
        "width": 800
       }
      },
      "text/html": [
       "<div>                            <div id=\"ca0e4602-ab7c-4e38-989a-866f3100f611\" class=\"plotly-graph-div\" style=\"height:500px; width:800px;\"></div>            <script type=\"text/javascript\">                require([\"plotly\"], function(Plotly) {                    window.PLOTLYENV=window.PLOTLYENV || {};                                    if (document.getElementById(\"ca0e4602-ab7c-4e38-989a-866f3100f611\")) {                    Plotly.newPlot(                        \"ca0e4602-ab7c-4e38-989a-866f3100f611\",                        [{\"marker\":{\"color\":0,\"colorscale\":[[0.0,\"#440154\"],[0.1111111111111111,\"#482878\"],[0.2222222222222222,\"#3e4989\"],[0.3333333333333333,\"#31688e\"],[0.4444444444444444,\"#26828e\"],[0.5555555555555556,\"#1f9e89\"],[0.6666666666666666,\"#35b779\"],[0.7777777777777778,\"#6ece58\"],[0.8888888888888888,\"#b5de2b\"],[1.0,\"#fde725\"]],\"opacity\":0.8,\"size\":5},\"mode\":\"markers\",\"name\":\"Electronics\",\"x\":[-2.716340074505289,-5.417865275335328,-4.587330943501956,-1.3078260010086615,-1.9620832209496744,-2.3131067859213266,-3.7029139348435134,-4.65824798604723,-5.882988782149619,-5.233654160485938,-3.2721791581292754,-0.9549037014545046,-5.267259269203983,-3.384487775597975,-0.5766870823435919,-3.661775578483036,-3.53329884272551,-5.71962528577891],\"y\":[-5.485248603869658,-5.154122073217911,-7.638688613471929,-4.218487908438489,-2.3881168085186215,-5.364758256864748,-4.073723803821079,-5.068699720025658,-3.942080238100789,-4.550120377931678,-2.7137429904662045,-3.292195793195768,-4.916448150588528,-4.320147409678388,-4.28182818909605,-4.138718457421654,-6.06505293211085,-4.245320604897799],\"z\":[6.836429264260381,6.646390400392622,5.939439089343638,8.197218796742991,7.752034040849291,6.449419632155028,3.8535614070062723,6.606666001709254,1.767941289469302,3.0992735701162872,9.038139457143386,5.550591810539672,5.778196445521906,4.181688344203225,5.976859826704885,1.362648181955742,5.802593490921527,1.458963449634843],\"type\":\"scatter3d\"},{\"marker\":{\"color\":1,\"colorscale\":[[0.0,\"#440154\"],[0.1111111111111111,\"#482878\"],[0.2222222222222222,\"#3e4989\"],[0.3333333333333333,\"#31688e\"],[0.4444444444444444,\"#26828e\"],[0.5555555555555556,\"#1f9e89\"],[0.6666666666666666,\"#35b779\"],[0.7777777777777778,\"#6ece58\"],[0.8888888888888888,\"#b5de2b\"],[1.0,\"#fde725\"]],\"opacity\":0.8,\"size\":5},\"mode\":\"markers\",\"name\":\"Fruit\",\"x\":[0.35626856571655474,-0.3547466621907463,0.17147068159548648,0.8320213087523731,-0.0008173639438334911,0.02797664862338731,-0.7099401699181074,-1.2257402141326064,0.60160394406423,0.4414747407951853],\"y\":[11.501643004047386,10.105496442467032,11.720291050641865,10.913051113510148,11.01867977558647,10.802923332609568,10.76096001198825,10.487028068305207,10.848981164762622,12.100759226969652],\"z\":[4.429336464856176,2.815434767976622,4.28195533449672,3.717124245861798,3.624818963843379,4.684979272791155,4.351958491746766,2.4573722878172726,3.9222716956989236,3.9937885807927502],\"type\":\"scatter3d\"},{\"marker\":{\"color\":2,\"colorscale\":[[0.0,\"#440154\"],[0.1111111111111111,\"#482878\"],[0.2222222222222222,\"#3e4989\"],[0.3333333333333333,\"#31688e\"],[0.4444444444444444,\"#26828e\"],[0.5555555555555556,\"#1f9e89\"],[0.6666666666666666,\"#35b779\"],[0.7777777777777778,\"#6ece58\"],[0.8888888888888888,\"#b5de2b\"],[1.0,\"#fde725\"]],\"opacity\":0.8,\"size\":5},\"mode\":\"markers\",\"name\":\"Furniture\",\"x\":[6.167464347634439,7.778060471156196,4.6178095479211105,7.801999306155743,5.689703980330377,6.076754319116005,5.9294979363752045,6.529691159971835,4.313653430732004,8.004390818403884,7.482612335019434,6.486827099623344,7.476930903489832,8.788278046697753,7.213253945643732,8.962930403459415,6.654303228194161,5.958821742445321,4.26015098534581,7.188431094243773,6.541154460823103,8.365652622967877],\"y\":[-1.754374624202786,-1.9227071201218828,-1.5565890863962162,-2.2462925151127044,-3.780394929057997,-1.7218990419310838,-2.4991432481456606,-2.4831811780536923,-3.4542040447379643,0.26017134868315844,-2.3772945356400124,-0.4361030053087197,-1.374747526382626,-2.244537935687202,-2.661292979255141,-1.1160637803219808,-1.7461988133839363,-1.8367421985913317,-2.495929978113944,-0.6661419348172813,2.3452432355781925,-0.8884864111322126],\"z\":[-1.4206857935986408,-3.0432998890070024,-1.0809275543560308,-3.947399741084072,-1.6233242038954347,-4.191521784649339,-2.9761381537530105,1.3264669226973254,-1.007913796902125,-2.9898999138844053,-1.9955082100132717,-1.4128252600828222,-3.7218111115383317,-3.7123952033623118,-2.7893744126830793,-4.6511222877684935,-2.968260569096396,-3.0942781169132503,0.22970753031871433,-2.2231525318918846,-1.806248185563792,-3.612112485788881],\"type\":\"scatter3d\"},{\"marker\":{\"color\":3,\"colorscale\":[[0.0,\"#440154\"],[0.1111111111111111,\"#482878\"],[0.2222222222222222,\"#3e4989\"],[0.3333333333333333,\"#31688e\"],[0.4444444444444444,\"#26828e\"],[0.5555555555555556,\"#1f9e89\"],[0.6666666666666666,\"#35b779\"],[0.7777777777777778,\"#6ece58\"],[0.8888888888888888,\"#b5de2b\"],[1.0,\"#fde725\"]],\"opacity\":0.8,\"size\":5},\"mode\":\"markers\",\"name\":\"Sport\",\"x\":[-8.11035086548668,-8.805276343389608,-7.997388484501462,-8.008472514169467,-8.781448108110844,-7.900538088456241,-8.882136931750349,-8.530603729823701,-8.899469473107091,-8.359685267851509],\"y\":[1.029365432351591,0.7005502461629041,0.5840076744512185,1.0888768378324352,0.4510818210755797,1.5345579542224341,0.5734040878764279,0.09655887995396839,1.564380739489492,0.631814369544557],\"z\":[-8.133086705154945,-8.602511700808451,-8.280240821490539,-8.747590667365252,-8.918279962312011,-7.862981268339622,-8.11686774826361,-6.904184186421351,-8.592176452922432,-7.707150338657062],\"type\":\"scatter3d\"}],                        {\"template\":{\"data\":{\"histogram2dcontour\":[{\"type\":\"histogram2dcontour\",\"colorbar\":{\"outlinewidth\":0,\"ticks\":\"\"},\"colorscale\":[[0.0,\"#0d0887\"],[0.1111111111111111,\"#46039f\"],[0.2222222222222222,\"#7201a8\"],[0.3333333333333333,\"#9c179e\"],[0.4444444444444444,\"#bd3786\"],[0.5555555555555556,\"#d8576b\"],[0.6666666666666666,\"#ed7953\"],[0.7777777777777778,\"#fb9f3a\"],[0.8888888888888888,\"#fdca26\"],[1.0,\"#f0f921\"]]}],\"choropleth\":[{\"type\":\"choropleth\",\"colorbar\":{\"outlinewidth\":0,\"ticks\":\"\"}}],\"histogram2d\":[{\"type\":\"histogram2d\",\"colorbar\":{\"outlinewidth\":0,\"ticks\":\"\"},\"colorscale\":[[0.0,\"#0d0887\"],[0.1111111111111111,\"#46039f\"],[0.2222222222222222,\"#7201a8\"],[0.3333333333333333,\"#9c179e\"],[0.4444444444444444,\"#bd3786\"],[0.5555555555555556,\"#d8576b\"],[0.6666666666666666,\"#ed7953\"],[0.7777777777777778,\"#fb9f3a\"],[0.8888888888888888,\"#fdca26\"],[1.0,\"#f0f921\"]]}],\"heatmap\":[{\"type\":\"heatmap\",\"colorbar\":{\"outlinewidth\":0,\"ticks\":\"\"},\"colorscale\":[[0.0,\"#0d0887\"],[0.1111111111111111,\"#46039f\"],[0.2222222222222222,\"#7201a8\"],[0.3333333333333333,\"#9c179e\"],[0.4444444444444444,\"#bd3786\"],[0.5555555555555556,\"#d8576b\"],[0.6666666666666666,\"#ed7953\"],[0.7777777777777778,\"#fb9f3a\"],[0.8888888888888888,\"#fdca26\"],[1.0,\"#f0f921\"]]}],\"heatmapgl\":[{\"type\":\"heatmapgl\",\"colorbar\":{\"outlinewidth\":0,\"ticks\":\"\"},\"colorscale\":[[0.0,\"#0d0887\"],[0.1111111111111111,\"#46039f\"],[0.2222222222222222,\"#7201a8\"],[0.3333333333333333,\"#9c179e\"],[0.4444444444444444,\"#bd3786\"],[0.5555555555555556,\"#d8576b\"],[0.6666666666666666,\"#ed7953\"],[0.7777777777777778,\"#fb9f3a\"],[0.8888888888888888,\"#fdca26\"],[1.0,\"#f0f921\"]]}],\"contourcarpet\":[{\"type\":\"contourcarpet\",\"colorbar\":{\"outlinewidth\":0,\"ticks\":\"\"}}],\"contour\":[{\"type\":\"contour\",\"colorbar\":{\"outlinewidth\":0,\"ticks\":\"\"},\"colorscale\":[[0.0,\"#0d0887\"],[0.1111111111111111,\"#46039f\"],[0.2222222222222222,\"#7201a8\"],[0.3333333333333333,\"#9c179e\"],[0.4444444444444444,\"#bd3786\"],[0.5555555555555556,\"#d8576b\"],[0.6666666666666666,\"#ed7953\"],[0.7777777777777778,\"#fb9f3a\"],[0.8888888888888888,\"#fdca26\"],[1.0,\"#f0f921\"]]}],\"surface\":[{\"type\":\"surface\",\"colorbar\":{\"outlinewidth\":0,\"ticks\":\"\"},\"colorscale\":[[0.0,\"#0d0887\"],[0.1111111111111111,\"#46039f\"],[0.2222222222222222,\"#7201a8\"],[0.3333333333333333,\"#9c179e\"],[0.4444444444444444,\"#bd3786\"],[0.5555555555555556,\"#d8576b\"],[0.6666666666666666,\"#ed7953\"],[0.7777777777777778,\"#fb9f3a\"],[0.8888888888888888,\"#fdca26\"],[1.0,\"#f0f921\"]]}],\"mesh3d\":[{\"type\":\"mesh3d\",\"colorbar\":{\"outlinewidth\":0,\"ticks\":\"\"}}],\"scatter\":[{\"fillpattern\":{\"fillmode\":\"overlay\",\"size\":10,\"solidity\":0.2},\"type\":\"scatter\"}],\"parcoords\":[{\"type\":\"parcoords\",\"line\":{\"colorbar\":{\"outlinewidth\":0,\"ticks\":\"\"}}}],\"scatterpolargl\":[{\"type\":\"scatterpolargl\",\"marker\":{\"colorbar\":{\"outlinewidth\":0,\"ticks\":\"\"}}}],\"bar\":[{\"error_x\":{\"color\":\"#2a3f5f\"},\"error_y\":{\"color\":\"#2a3f5f\"},\"marker\":{\"line\":{\"color\":\"#E5ECF6\",\"width\":0.5},\"pattern\":{\"fillmode\":\"overlay\",\"size\":10,\"solidity\":0.2}},\"type\":\"bar\"}],\"scattergeo\":[{\"type\":\"scattergeo\",\"marker\":{\"colorbar\":{\"outlinewidth\":0,\"ticks\":\"\"}}}],\"scatterpolar\":[{\"type\":\"scatterpolar\",\"marker\":{\"colorbar\":{\"outlinewidth\":0,\"ticks\":\"\"}}}],\"histogram\":[{\"marker\":{\"pattern\":{\"fillmode\":\"overlay\",\"size\":10,\"solidity\":0.2}},\"type\":\"histogram\"}],\"scattergl\":[{\"type\":\"scattergl\",\"marker\":{\"colorbar\":{\"outlinewidth\":0,\"ticks\":\"\"}}}],\"scatter3d\":[{\"type\":\"scatter3d\",\"line\":{\"colorbar\":{\"outlinewidth\":0,\"ticks\":\"\"}},\"marker\":{\"colorbar\":{\"outlinewidth\":0,\"ticks\":\"\"}}}],\"scattermapbox\":[{\"type\":\"scattermapbox\",\"marker\":{\"colorbar\":{\"outlinewidth\":0,\"ticks\":\"\"}}}],\"scatterternary\":[{\"type\":\"scatterternary\",\"marker\":{\"colorbar\":{\"outlinewidth\":0,\"ticks\":\"\"}}}],\"scattercarpet\":[{\"type\":\"scattercarpet\",\"marker\":{\"colorbar\":{\"outlinewidth\":0,\"ticks\":\"\"}}}],\"carpet\":[{\"aaxis\":{\"endlinecolor\":\"#2a3f5f\",\"gridcolor\":\"white\",\"linecolor\":\"white\",\"minorgridcolor\":\"white\",\"startlinecolor\":\"#2a3f5f\"},\"baxis\":{\"endlinecolor\":\"#2a3f5f\",\"gridcolor\":\"white\",\"linecolor\":\"white\",\"minorgridcolor\":\"white\",\"startlinecolor\":\"#2a3f5f\"},\"type\":\"carpet\"}],\"table\":[{\"cells\":{\"fill\":{\"color\":\"#EBF0F8\"},\"line\":{\"color\":\"white\"}},\"header\":{\"fill\":{\"color\":\"#C8D4E3\"},\"line\":{\"color\":\"white\"}},\"type\":\"table\"}],\"barpolar\":[{\"marker\":{\"line\":{\"color\":\"#E5ECF6\",\"width\":0.5},\"pattern\":{\"fillmode\":\"overlay\",\"size\":10,\"solidity\":0.2}},\"type\":\"barpolar\"}],\"pie\":[{\"automargin\":true,\"type\":\"pie\"}]},\"layout\":{\"autotypenumbers\":\"strict\",\"colorway\":[\"#636efa\",\"#EF553B\",\"#00cc96\",\"#ab63fa\",\"#FFA15A\",\"#19d3f3\",\"#FF6692\",\"#B6E880\",\"#FF97FF\",\"#FECB52\"],\"font\":{\"color\":\"#2a3f5f\"},\"hovermode\":\"closest\",\"hoverlabel\":{\"align\":\"left\"},\"paper_bgcolor\":\"white\",\"plot_bgcolor\":\"#E5ECF6\",\"polar\":{\"bgcolor\":\"#E5ECF6\",\"angularaxis\":{\"gridcolor\":\"white\",\"linecolor\":\"white\",\"ticks\":\"\"},\"radialaxis\":{\"gridcolor\":\"white\",\"linecolor\":\"white\",\"ticks\":\"\"}},\"ternary\":{\"bgcolor\":\"#E5ECF6\",\"aaxis\":{\"gridcolor\":\"white\",\"linecolor\":\"white\",\"ticks\":\"\"},\"baxis\":{\"gridcolor\":\"white\",\"linecolor\":\"white\",\"ticks\":\"\"},\"caxis\":{\"gridcolor\":\"white\",\"linecolor\":\"white\",\"ticks\":\"\"}},\"coloraxis\":{\"colorbar\":{\"outlinewidth\":0,\"ticks\":\"\"}},\"colorscale\":{\"sequential\":[[0.0,\"#0d0887\"],[0.1111111111111111,\"#46039f\"],[0.2222222222222222,\"#7201a8\"],[0.3333333333333333,\"#9c179e\"],[0.4444444444444444,\"#bd3786\"],[0.5555555555555556,\"#d8576b\"],[0.6666666666666666,\"#ed7953\"],[0.7777777777777778,\"#fb9f3a\"],[0.8888888888888888,\"#fdca26\"],[1.0,\"#f0f921\"]],\"sequentialminus\":[[0.0,\"#0d0887\"],[0.1111111111111111,\"#46039f\"],[0.2222222222222222,\"#7201a8\"],[0.3333333333333333,\"#9c179e\"],[0.4444444444444444,\"#bd3786\"],[0.5555555555555556,\"#d8576b\"],[0.6666666666666666,\"#ed7953\"],[0.7777777777777778,\"#fb9f3a\"],[0.8888888888888888,\"#fdca26\"],[1.0,\"#f0f921\"]],\"diverging\":[[0,\"#8e0152\"],[0.1,\"#c51b7d\"],[0.2,\"#de77ae\"],[0.3,\"#f1b6da\"],[0.4,\"#fde0ef\"],[0.5,\"#f7f7f7\"],[0.6,\"#e6f5d0\"],[0.7,\"#b8e186\"],[0.8,\"#7fbc41\"],[0.9,\"#4d9221\"],[1,\"#276419\"]]},\"xaxis\":{\"gridcolor\":\"white\",\"linecolor\":\"white\",\"ticks\":\"\",\"title\":{\"standoff\":15},\"zerolinecolor\":\"white\",\"automargin\":true,\"zerolinewidth\":2},\"yaxis\":{\"gridcolor\":\"white\",\"linecolor\":\"white\",\"ticks\":\"\",\"title\":{\"standoff\":15},\"zerolinecolor\":\"white\",\"automargin\":true,\"zerolinewidth\":2},\"scene\":{\"xaxis\":{\"backgroundcolor\":\"#E5ECF6\",\"gridcolor\":\"white\",\"linecolor\":\"white\",\"showbackground\":true,\"ticks\":\"\",\"zerolinecolor\":\"white\",\"gridwidth\":2},\"yaxis\":{\"backgroundcolor\":\"#E5ECF6\",\"gridcolor\":\"white\",\"linecolor\":\"white\",\"showbackground\":true,\"ticks\":\"\",\"zerolinecolor\":\"white\",\"gridwidth\":2},\"zaxis\":{\"backgroundcolor\":\"#E5ECF6\",\"gridcolor\":\"white\",\"linecolor\":\"white\",\"showbackground\":true,\"ticks\":\"\",\"zerolinecolor\":\"white\",\"gridwidth\":2}},\"shapedefaults\":{\"line\":{\"color\":\"#2a3f5f\"}},\"annotationdefaults\":{\"arrowcolor\":\"#2a3f5f\",\"arrowhead\":0,\"arrowwidth\":1},\"geo\":{\"bgcolor\":\"white\",\"landcolor\":\"#E5ECF6\",\"subunitcolor\":\"white\",\"showland\":true,\"showlakes\":true,\"lakecolor\":\"white\"},\"title\":{\"x\":0.05},\"mapbox\":{\"style\":\"light\"}}},\"margin\":{\"l\":50,\"r\":50,\"b\":100,\"t\":100,\"pad\":10},\"autosize\":false,\"title\":{\"text\":\"3D Scatter Plot of Categories\"},\"width\":800,\"height\":500,\"scene\":{\"xaxis\":{\"title\":{\"text\":\"x\"}},\"yaxis\":{\"title\":{\"text\":\"y\"}},\"zaxis\":{\"title\":{\"text\":\"z\"}}}},                        {\"responsive\": true}                    ).then(function(){\n",
       "                            \n",
       "var gd = document.getElementById('ca0e4602-ab7c-4e38-989a-866f3100f611');\n",
       "var x = new MutationObserver(function (mutations, observer) {{\n",
       "        var display = window.getComputedStyle(gd).display;\n",
       "        if (!display || display === 'none') {{\n",
       "            console.log([gd, 'removed!']);\n",
       "            Plotly.purge(gd);\n",
       "            observer.disconnect();\n",
       "        }}\n",
       "}});\n",
       "\n",
       "// Listen for the removal of the full notebook cells\n",
       "var notebookContainer = gd.closest('#notebook-container');\n",
       "if (notebookContainer) {{\n",
       "    x.observe(notebookContainer, {childList: true});\n",
       "}}\n",
       "\n",
       "// Listen for the clearing of the current output cell\n",
       "var outputEl = gd.closest('.output');\n",
       "if (outputEl) {{\n",
       "    x.observe(outputEl, {childList: true});\n",
       "}}\n",
       "\n",
       "                        })                };                });            </script>        </div>"
      ]
     },
     "metadata": {},
     "output_type": "display_data"
    }
   ],
   "source": [
    "import plotly.graph_objs as go\n",
    "import numpy as np\n",
    "fig = go.Figure()\n",
    "\n",
    "for i, cat in enumerate(categories):\n",
    "    sub_matrix = np.array(df_data[df_data[\"p_category\"] == cat][\"pca_embed\"].to_list())\n",
    "    x = sub_matrix[:, 0]\n",
    "    y = sub_matrix[:, 1]\n",
    "    z = sub_matrix[:, 2]\n",
    "\n",
    "    fig.add_trace(\n",
    "        go.Scatter3d(\n",
    "            x=x,\n",
    "            y=y,\n",
    "            z=z,\n",
    "            mode=\"markers\",\n",
    "            marker=dict(size=5, color=i, colorscale=\"Viridis\", opacity=0.8),\n",
    "            name=cat,\n",
    "        )\n",
    "    )\n",
    "\n",
    "fig.update_layout(\n",
    "    autosize=False,\n",
    "    title=\"3D Scatter Plot of Categories\",\n",
    "    width=800,\n",
    "    height=500,\n",
    "    margin=dict(l=50, r=50, b=100, t=100, pad=10),\n",
    "    scene=dict(\n",
    "        xaxis=dict(title=\"x\"),\n",
    "        yaxis=dict(title=\"y\"),\n",
    "        zaxis=dict(title=\"z\"),\n",
    "    ),\n",
    ")\n",
    "\n",
    "fig.show()"
   ]
  },
  {
   "cell_type": "markdown",
   "id": "92e1b7ef",
   "metadata": {},
   "source": [
    "#### Note - In some cases, you might observe that 3D graph is not generating. In that case, restart the kernel and run the notebook again."
   ]
  },
  {
   "cell_type": "code",
   "execution_count": null,
   "id": "fb043865",
   "metadata": {},
   "outputs": [],
   "source": []
  }
 ],
 "metadata": {
  "kernelspec": {
   "display_name": "conda_python3",
   "language": "python",
   "name": "conda_python3"
  },
  "language_info": {
   "codemirror_mode": {
    "name": "ipython",
    "version": 3
   },
   "file_extension": ".py",
   "mimetype": "text/x-python",
   "name": "python",
   "nbconvert_exporter": "python",
   "pygments_lexer": "ipython3",
   "version": "3.10.13"
  }
 },
 "nbformat": 4,
 "nbformat_minor": 5
}
